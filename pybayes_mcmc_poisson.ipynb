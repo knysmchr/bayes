{
 "cells": [
  {
   "cell_type": "code",
   "execution_count": null,
   "id": "9d88b773",
   "metadata": {},
   "outputs": [],
   "source": [
    "import numpy as np\n",
    "import scipy.stats as st\n",
    "import scipy.linalg as la\n",
    "import pymc3 as pm\n",
    "import matplotlib.pyplot as plt\n",
    "from matplotlib.font_manager import FontProperties\n",
    "\n",
    "FontPath = '/Users/knysmchr/Downloads/IPAexfont00301/ipaexg.ttf'\n",
    "jpfont = FontProperties(fname=FontPath)\n",
    "\n",
    "# ポアソン回帰モデルからのデータ生成\n",
    "n = 500\n",
    "np.random.seed(99)\n",
    "x1 = st.uniform.rvs(loc=-np.sqrt(3.0), scale=2.0*np.sqrt(3.0), size=n)\n",
    "x2 = st.uniform.rvs(loc=-np.sqrt(3.0), scale=2.0*np.sqrt(3.0), size=n)\n",
    "lam = np.exp(0.5*x1 - 0.5*x2)\n",
    "y = st.poisson.rvs(lam)\n",
    "X = np.stack((np.ones(n), x1, x2), axis=1)\n",
    "# ポアソン回帰モデルの係数の事後分布の設定\n",
    "n, k = X.shape\n",
    "b0 = np.zeros(k)\n",
    "A0 = 0.01 * np.eye(k)\n",
    "poisson_regression_model = pm.Model()\n",
    "with poisson_regression_model:\n",
    "    b = pm.MvNormal('b', mu=b0, tau=A0, shape=k)\n",
    "    idx = pm.math.dot(X, b)\n",
    "    likelihood = pm.poisson('y', mu=pm.math.exp(idx), observed=y)\n",
    "# 事後分布からのサンプリング\n",
    "n_draws = 5000\n",
    "n_chains = 4\n",
    "n_tune = 1000\n",
    "with poisson_regression_model:\n",
    "    trace = pm.sample(draws=n_draws, chains=n_chains, tune=n_tune, random_seed=123)\n",
    "print(pm.summary(trace))\n",
    "# 事後分布のグラフ作成\n",
    "fig, ax = plt.subplots(k, 2, num=1, figsize=(8, 1.5*k), facecolor='w')\n",
    "for index in range(k):\n",
    "    mc_trace = trace['b'][:, index]\n",
    "    x_min = mc_trace.min() - 0.2 * np.abs("
   ]
  }
 ],
 "metadata": {
  "kernelspec": {
   "display_name": "Python (Bayes)",
   "language": "python",
   "name": "bayes"
  },
  "language_info": {
   "codemirror_mode": {
    "name": "ipython",
    "version": 3
   },
   "file_extension": ".py",
   "mimetype": "text/x-python",
   "name": "python",
   "nbconvert_exporter": "python",
   "pygments_lexer": "ipython3",
   "version": "3.10.4"
  }
 },
 "nbformat": 4,
 "nbformat_minor": 5
}
