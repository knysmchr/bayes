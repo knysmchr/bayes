{
 "cells": [
  {
   "cell_type": "code",
   "execution_count": null,
   "id": "4f3b5463",
   "metadata": {},
   "outputs": [
    {
     "name": "stderr",
     "output_type": "stream",
     "text": [
      "/var/folders/b0/3m9ppxz93zl2xj3hppxlrzbw0000gn/T/ipykernel_18654/751329421.py:41: FutureWarning: In v4.0, pm.sample will return an `arviz.InferenceData` object instead of a `MultiTrace` by default. You can pass return_inferencedata=True or return_inferencedata=False to be safe and silence this warning.\n",
      "  trace = pm.sample(draws=n_draws, chains=n_chains, tune=n_tunes, random_seed=123)\n",
      "Auto-assigning NUTS sampler...\n",
      "Initializing NUTS using jitter+adapt_diag...\n",
      "Multiprocess sampling (4 chains in 2 jobs)\n",
      "NUTS: [b, sigma2]\n"
     ]
    },
    {
     "data": {
      "text/html": [
       "\n",
       "<style>\n",
       "    /* Turns off some styling */\n",
       "    progress {\n",
       "        /* gets rid of default border in Firefox and Opera. */\n",
       "        border: none;\n",
       "        /* Needs to be in here for Safari polyfill so background images work as expected. */\n",
       "        background-size: auto;\n",
       "    }\n",
       "    .progress-bar-interrupted, .progress-bar-interrupted::-webkit-progress-bar {\n",
       "        background: #F44336;\n",
       "    }\n",
       "</style>\n"
      ],
      "text/plain": [
       "<IPython.core.display.HTML object>"
      ]
     },
     "metadata": {},
     "output_type": "display_data"
    },
    {
     "data": {
      "text/html": [
       "\n",
       "    <div>\n",
       "      <progress value='8821' class='' max='24000' style='width:300px; height:20px; vertical-align: middle;'></progress>\n",
       "      36.75% [8821/24000 00:07<00:12 Sampling 4 chains, 0 divergences]\n",
       "    </div>\n",
       "    "
      ],
      "text/plain": [
       "<IPython.core.display.HTML object>"
      ]
     },
     "metadata": {},
     "output_type": "display_data"
    }
   ],
   "source": [
    "import numpy as np\n",
    "import scipy.stats as st\n",
    "import scipy.linalg as la\n",
    "import pymc3 as pm\n",
    "import matplotlib.pyplot as plt\n",
    "from matplotlib.font_manager import FontProperties\n",
    "# import theano\n",
    "\n",
    "FontPath = '/Users/knysmchr/Downloads/IPAexfont00301/ipaexg.ttf'\n",
    "jpfont = FontProperties(fname=FontPath)\n",
    "\n",
    "# theano.config.gcc.cxxflags = '-Wno-c++11-narrowing'\n",
    "\n",
    "def main():\n",
    "    # 回帰モデルからのデータ生成\n",
    "    n = 50\n",
    "    np.random.seed(99)\n",
    "    u = st.norm.rvs(scale=0.7, size=n)\n",
    "    x1 = st.uniform.rvs(loc=-np.sqrt(3.0), scale=2.0*np.sqrt(3.0), size=n)\n",
    "    x2 = st.uniform.rvs(loc=-np.sqrt(3.0), scale=2.0*np.sqrt(3.0), size=n)\n",
    "    y = 1.0 + 2.0 * x1 - x2 + u\n",
    "    X = np.stack((np.ones(n), x1, x2), axis=1)\n",
    "    # 回帰モデルの係数と誤差項の分散の事後分布の設定\n",
    "    k = X.shape[1]\n",
    "    b0 = np.zeros(k)\n",
    "    A0 = 0.2 * np.eye(k)\n",
    "    nu0 = 5.0\n",
    "    lam0 = 7.0\n",
    "    sd0 = np.sqrt(np.diag(la.inv(A0)))\n",
    "    multiple_regression = pm.Model()\n",
    "    with multiple_regression:\n",
    "        sigma2 = pm.InverseGamma('sigma2', alpha=0.5*nu0, beta=0.5*lam0)\n",
    "        b = pm.MvNormal('b', mu=b0, tau=A0, shape=k)\n",
    "        y_hat = pm.math.dot(X, b)\n",
    "        likelihood = pm.Normal('y', mu=y_hat, sd=pm.math.sqrt(sigma2), observed=y)\n",
    "    # 事後分布からのサンプリング\n",
    "    n_draws = 5000\n",
    "    n_chains = 4\n",
    "    n_tunes = 1000\n",
    "    with multiple_regression:\n",
    "        trace = pm.sample(draws=n_draws, chains=n_chains, tune=n_tunes, random_seed=123)\n",
    "    print(pm.summary(trace))\n",
    "    # 事後分布のグラフの作成\n",
    "    fig, ax = plt.subplots(k+1, 2, num=1, figsize=(8, 1.5*(k+1)), facecolor='w')\n",
    "    for index in range(k+1):\n",
    "        if index < k:\n",
    "            mc_trace = trace['b'][:, index]\n",
    "            x_min = mc_trace.min() - 0.2 * np.abs(mc_trace.min())\n",
    "            x_max = mc_trace.max() + 0.2 * np.abs(mc_trace.max())\n",
    "            x = np.linspace(x_min, x_max, 250)\n",
    "            prior = st.norm.pdf(x, loc=b0[index], scale=sd0[index])\n",
    "            y_label = '$\\\\beta_{:<d}$'.format(index+1)\n",
    "        else:\n",
    "            mc_trace = trace['sigma2']\n",
    "            x_min = 0.0\n",
    "            x_max = mc_trace.max() + 0.2 * np.abs(mc_trace.max())\n",
    "            x = np.linspace(x_min, x_max, 250)\n",
    "            prior = st.invgamma.pdf(x, 0.5*nu0, scale=0.5*lam0)\n",
    "            y_label = '$\\\\sigma^2$'\n",
    "            ax[index, 0].set_xlabel('乱数係数', fontproperties=jpfont)\n",
    "            ax[index, 1].set_xlabel('パラメータの分布', fontproperties=jpfont)\n",
    "        ax[index, 0].plot(mc_trace, 'k-', linewidth=0.1)\n",
    "        ax[index, 0].set_xlim(1, n_draws*n_chains)\n",
    "        ax[index, 0].set_ylabel(y_label, fontproperties=jpfont)\n",
    "        posterior = st.gaussian_kde(mc_trace).evaluate(x)\n",
    "        ax[index, 1].plot(x, posterior, 'k-', label='事後分布')\n",
    "        ax[index, 1].plot(x, prior, 'k:', label='事前分布')\n",
    "        ax[index, 1].set_xlim(x_min, x_max)\n",
    "        ax[index, 1].set_ylim(0, 1.1*posterior.max())\n",
    "        ax[index, 1].set_ylabel('確率密度', fontproperties=jpfont)\n",
    "        ax[index, 1].legend(loc='best', frameon=False, prop=jpfont)\n",
    "    plt.tight_layout()\n",
    "    plt.savefig('pybayes_fig_mcmc_reg_ex3.png', dpi=300)\n",
    "    plt.show()\n",
    "\n",
    "if __name__ == '__main__':\n",
    "    main()"
   ]
  },
  {
   "cell_type": "code",
   "execution_count": null,
   "id": "10dba50e",
   "metadata": {},
   "outputs": [],
   "source": []
  }
 ],
 "metadata": {
  "kernelspec": {
   "display_name": "Python (Bayes)",
   "language": "python",
   "name": "bayes"
  },
  "language_info": {
   "codemirror_mode": {
    "name": "ipython",
    "version": 3
   },
   "file_extension": ".py",
   "mimetype": "text/x-python",
   "name": "python",
   "nbconvert_exporter": "python",
   "pygments_lexer": "ipython3",
   "version": "3.10.4"
  }
 },
 "nbformat": 4,
 "nbformat_minor": 5
}
